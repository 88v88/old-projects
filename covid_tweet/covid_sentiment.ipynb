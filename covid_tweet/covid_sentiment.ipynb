{
  "nbformat": 4,
  "nbformat_minor": 0,
  "metadata": {
    "colab": {
      "name": "Untitled0.ipynb",
      "provenance": []
    },
    "kernelspec": {
      "name": "python3",
      "display_name": "Python 3"
    }
  },
  "cells": [
    {
      "cell_type": "code",
      "metadata": {
        "id": "3XOMPameiS64"
      },
      "source": [
        "from gensim.models import Word2Vec\n",
        "from gensim.models.phrases import Phrases, Phraser\n",
        "import io\n",
        "import logging\n",
        "import cython\n",
        "import copy\n",
        "import string\n",
        "\n",
        "\n",
        "import json\n",
        "\n",
        "with open(\"newsonly.jsonl\", \"r\") as json_file:\n",
        "    json_list = list(json_file)\n",
        "informed = list()\n",
        "for json_str in json_list:\n",
        "    loadInform = json.loads(json_str)\n",
        "    informed.append(loadInform[\"full_text\"])\n",
        "\n",
        "\n",
        "with open(\"callingoutonly.jsonl\", \"r\") as json_file1:\n",
        "    json_list1 = list(json_file1)\n",
        "misinformed = list()\n",
        "for json_str1 in json_list1:\n",
        "    loadMisinform = json.loads(json_str1)\n",
        "    misinformed.append(loadMisinform[\"full_text\"])\n",
        "\n",
        "with open(\"callingoutonly.jsonl\", \"r\") as json_file1:\n",
        "    json_list1 = list(json_file1)\n",
        "misinformed = list()\n",
        "for json_str1 in json_list1:\n",
        "    loadMisinform = json.loads(json_str1)\n",
        "    misinformed.append(loadMisinform[\"full_text\"])\n",
        "\n",
        "\n",
        "\n",
        "Imodel = Word2Vec(min_count=1,window=10,size=300,sample=0.001,alpha=0.01,min_alpha=0.0005,negative=10,workers=4,sg=0)\n",
        "Mmodel = Word2Vec(min_count=1,window=10,size=300,sample=0.001,alpha=0.01,min_alpha=0.0005,negative=10,workers=4,sg=0)"
      ],
      "execution_count": null,
      "outputs": []
    },
    {
      "cell_type": "code",
      "metadata": {
        "colab": {
          "base_uri": "https://localhost:8080/"
        },
        "id": "pMj0Cf2zi8ww",
        "outputId": "4fa50335-300c-4d97-a3db-141f1e515ce2"
      },
      "source": [
        "import nltk\n",
        "from nltk.sentiment.vader import SentimentIntensityAnalyzer\n",
        "nltk.download('vader_lexicon')\n",
        "sentiment = SentimentIntensityAnalyzer()"
      ],
      "execution_count": null,
      "outputs": [
        {
          "output_type": "stream",
          "text": [
            "[nltk_data] Downloading package vader_lexicon to /root/nltk_data...\n",
            "[nltk_data]   Package vader_lexicon is already up-to-date!\n"
          ],
          "name": "stdout"
        }
      ]
    },
    {
      "cell_type": "code",
      "metadata": {
        "id": "Llno6HP-xyOj"
      },
      "source": [
        "informed1 = list()\n",
        "for inf in informed:\n",
        "  com = sentiment.polarity_scores(inf)[\"compound\"]\n",
        "  neg = sentiment.polarity_scores(inf)[\"neg\"]\n",
        "  neu = sentiment.polarity_scores(inf)[\"neu\"]\n",
        "  pos = sentiment.polarity_scores(inf)[\"pos\"]\n",
        "  informed1.append(f\"{com},{neg},{neu},{pos}\\n\")\n",
        "\n",
        "with open('newsentiment.csv', 'w') as f:\n",
        "    for inf in informed1:\n",
        "        f.write(inf)"
      ],
      "execution_count": null,
      "outputs": []
    },
    {
      "cell_type": "code",
      "metadata": {
        "id": "Fwg-VEiK0pEM"
      },
      "source": [
        "misinformed1 = list()\n",
        "for mis in misinformed:\n",
        "  com = sentiment.polarity_scores(mis)[\"compound\"]\n",
        "  neg = sentiment.polarity_scores(mis)[\"neg\"]\n",
        "  neu = sentiment.polarity_scores(mis)[\"neu\"]\n",
        "  pos = sentiment.polarity_scores(mis)[\"pos\"]\n",
        "  misinformed1.append(f\"{com},{neg},{neu},{pos}\\n\")\n",
        "\n",
        "with open('calloutsentiment.csv', 'w') as f:\n",
        "    for mis in misinformed1:\n",
        "        f.write(mis)"
      ],
      "execution_count": null,
      "outputs": []
    },
    {
      "cell_type": "code",
      "metadata": {
        "id": "4e3hFPmdkG5J"
      },
      "source": [
        "Imod = [k.split() for k in informed]\n",
        "Mmod = [m.split() for m in misinformed]\n",
        "Imodel.build_vocab(Imod)\n",
        "Mmodel.build_vocab(Mmod)"
      ],
      "execution_count": null,
      "outputs": []
    },
    {
      "cell_type": "code",
      "metadata": {
        "colab": {
          "base_uri": "https://localhost:8080/"
        },
        "id": "eYLI8GABkMAU",
        "outputId": "20b5fb69-b0e6-413a-ffaa-3977a552c571"
      },
      "source": [
        "Imodel.train(Imod,total_examples=Imodel.corpus_count,epochs=50,report_delay=100)\n",
        "Mmodel.train(Mmod,total_examples=Mmodel.corpus_count,epochs=50,report_delay=100)"
      ],
      "execution_count": null,
      "outputs": [
        {
          "output_type": "execute_result",
          "data": {
            "text/plain": [
              "(1512274, 1798950)"
            ]
          },
          "metadata": {
            "tags": []
          },
          "execution_count": 3
        }
      ]
    },
    {
      "cell_type": "code",
      "metadata": {
        "colab": {
          "base_uri": "https://localhost:8080/"
        },
        "id": "3_Upzzbskdf-",
        "outputId": "38b97afa-54a8-444d-9886-6a254a1e0c30"
      },
      "source": [
        "Imodel.wv.most_similar(\"virus\",topn=30)"
      ],
      "execution_count": null,
      "outputs": [
        {
          "output_type": "stream",
          "text": [
            "/usr/local/lib/python3.6/dist-packages/gensim/matutils.py:737: FutureWarning: Conversion of the second argument of issubdtype from `int` to `np.signedinteger` is deprecated. In future, it will be treated as `np.int64 == np.dtype(int).type`.\n",
            "  if np.issubdtype(vec.dtype, np.int):\n"
          ],
          "name": "stderr"
        },
        {
          "output_type": "execute_result",
          "data": {
            "text/plain": [
              "[('up', 0.9999886751174927),\n",
              " ('about', 0.9999886751174927),\n",
              " ('out', 0.9999884366989136),\n",
              " ('that', 0.9999883770942688),\n",
              " ('COVID', 0.9999879598617554),\n",
              " ('on', 0.9999879598617554),\n",
              " ('like', 0.9999879002571106),\n",
              " ('this', 0.9999877214431763),\n",
              " ('Coronavirus', 0.999987006187439),\n",
              " ('ethanol', 0.9999867677688599),\n",
              " ('are', 0.9999867677688599),\n",
              " ('masks', 0.9999865889549255),\n",
              " ('from', 0.9999865293502808),\n",
              " ('A', 0.999986469745636),\n",
              " ('one', 0.9999863505363464),\n",
              " ('our', 0.9999862909317017),\n",
              " ('be', 0.9999862313270569),\n",
              " ('after', 0.9999861717224121),\n",
              " ('COVID-19.', 0.9999860525131226),\n",
              " ('but', 0.9999858736991882),\n",
              " ('will', 0.9999855756759644),\n",
              " ('which', 0.9999855756759644),\n",
              " ('not', 0.9999855756759644),\n",
              " ('#covid19', 0.9999854564666748),\n",
              " ('researchers', 0.9999852776527405),\n",
              " ('their', 0.9999852180480957),\n",
              " ('This', 0.9999850988388062),\n",
              " ('people', 0.9999850988388062),\n",
              " ('COVID-19', 0.9999850988388062),\n",
              " ('into', 0.9999850392341614)]"
            ]
          },
          "metadata": {
            "tags": []
          },
          "execution_count": 27
        }
      ]
    },
    {
      "cell_type": "code",
      "metadata": {
        "colab": {
          "base_uri": "https://localhost:8080/"
        },
        "id": "jSVtwYZEMX_D",
        "outputId": "58d740f8-c876-457a-e7f1-d9e669801198"
      },
      "source": [
        "Mmodel.wv.most_similar(\"virus\",topn=30)"
      ],
      "execution_count": null,
      "outputs": [
        {
          "output_type": "stream",
          "text": [
            "/usr/local/lib/python3.6/dist-packages/gensim/matutils.py:737: FutureWarning: Conversion of the second argument of issubdtype from `int` to `np.signedinteger` is deprecated. In future, it will be treated as `np.int64 == np.dtype(int).type`.\n",
            "  if np.issubdtype(vec.dtype, np.int):\n"
          ],
          "name": "stderr"
        },
        {
          "output_type": "execute_result",
          "data": {
            "text/plain": [
              "[('spreads', 0.9993298053741455),\n",
              " ('caused', 0.9993190765380859),\n",
              " ('The', 0.9990695714950562),\n",
              " ('shared', 0.998950719833374),\n",
              " ('countless', 0.9987252950668335),\n",
              " ('Ultraviolet', 0.9986450672149658),\n",
              " ('Networks?', 0.9986368417739868),\n",
              " ('Bleach?', 0.9986026287078857),\n",
              " ('lab', 0.9985868334770203),\n",
              " ('media.', 0.9985042810440063),\n",
              " ('however', 0.9984924793243408),\n",
              " ('multiple', 0.9984749555587769),\n",
              " ('\"engineered\"', 0.9984460473060608),\n",
              " ('theories,', 0.9983664155006409),\n",
              " ('study', 0.9983445405960083),\n",
              " ('online', 0.9983140826225281),\n",
              " ('fuel', 0.9983053803443909),\n",
              " ('hundreds', 0.9982343316078186),\n",
              " ('*higher*', 0.9982177019119263),\n",
              " ('QAnon', 0.9982060790061951),\n",
              " ('dispel', 0.9981775879859924),\n",
              " ('Lancet', 0.9981607794761658),\n",
              " ('rate.', 0.998123288154602),\n",
              " ('dangerous', 0.998038113117218),\n",
              " ('interests', 0.99801105260849),\n",
              " ('Africa', 0.9980082511901855),\n",
              " ('pace', 0.9980072975158691),\n",
              " ('shows', 0.9979932904243469),\n",
              " ('Microsoft', 0.997988760471344),\n",
              " ('REAL', 0.9979872107505798)]"
            ]
          },
          "metadata": {
            "tags": []
          },
          "execution_count": 28
        }
      ]
    },
    {
      "cell_type": "code",
      "metadata": {
        "colab": {
          "base_uri": "https://localhost:8080/"
        },
        "id": "O7eBSzzqwnOy",
        "outputId": "cab333c4-0357-42bd-913d-8d7b0f99c801"
      },
      "source": [
        "Mmodel.wv.save_word2vec_format(fname='vectors.txt',fvocab='words.txt')"
      ],
      "execution_count": null,
      "outputs": [
        {
          "output_type": "stream",
          "text": [
            "2020-12-10 22:25:50,947 : INFO : storing vocabulary in words.txt\n",
            "2020-12-10 22:25:50,973 : INFO : storing 10938x300 projection weights into vectors.txt\n"
          ],
          "name": "stderr"
        }
      ]
    }
  ]
}